{
 "cells": [
  {
   "cell_type": "code",
   "execution_count": 1,
   "id": "1f893416",
   "metadata": {},
   "outputs": [],
   "source": [
    "import pandas as pd\n",
    "import matplotlib.pyplot as plt\n",
    "import seaborn as sns\n",
    "import numpy as np\n",
    "import warnings\n",
    "import statsmodels.formula.api as sm\n",
    "import re\n",
    "from stargazer.stargazer import Stargazer\n",
    "warnings.filterwarnings('ignore')"
   ]
  },
  {
   "cell_type": "code",
   "execution_count": 2,
   "id": "779f90ad",
   "metadata": {},
   "outputs": [],
   "source": [
    "df = pd.read_stata('~/Desktop/Econ 191/Data/Default Tips/20130098_code_data/data/tips2009_clean.dta')\n",
    "dfz = pd.read_csv('~/Desktop/Econ 191/Data/The Effects of Tip Recommendations on Customer Tipping, Satisfaction, Repatronage, and Spending/tips_fix.csv')"
   ]
  },
  {
   "cell_type": "code",
   "execution_count": 3,
   "id": "0720dd7e",
   "metadata": {},
   "outputs": [
    {
     "data": {
      "text/plain": [
       "Index(['vendor', 'fare', 'tip', 'ride_duration', 'distance', 'pkp_time',\n",
       "       'drf_time', 'pkp_fips', 'drf_fips', 'tip_frac', 'tip_zero', 'menu_tip',\n",
       "       'high_choice', 'med_choice', 'low_choice', 'imen_tip', 'iman_tip',\n",
       "       'pkp_long', 'pkp_lat', 'pkp_boro', 'pkp_day', 'pkp_dow', 'pkp_doy',\n",
       "       'pkp_hour', 'pkp_id', 'pkp_vendor_avg', 'drf_long', 'drf_lat',\n",
       "       'drf_boro', 'drf_day', 'drf_dow', 'drf_id', 'tag_pkp_tract',\n",
       "       'tag_drf_tract', 'tag_farevend', 'gross_income_All', 'gr_inc10_All',\n",
       "       'gross_income_NonMan', 'gr_inc10_NonMan', 'gross_income_LGA',\n",
       "       'gr_inc10_LGA', 'gross_income_LGANonMan', 'gr_inc10_LGANonMan',\n",
       "       'passenger_count', 'trip_time', 'payment_type', 'car_id', 'driver_id',\n",
       "       'shift', 'from_jfk', 'tipfrac_over0under10', 'tip25', 'dsc_15',\n",
       "       'amt1_15', 'amt2_15', 'amt3_15', 'amt4_15', 'amt5_15', 'dscXamt1_15',\n",
       "       'dscXamt2_15', 'dscXamt3_15', 'dscXamt4_15', 'dscXamt5_15',\n",
       "       'amt_tip_frac_vendcomp', 'amt_tip_frac_vend_15', 'amt_tip_frac_vend_25',\n",
       "       'amt_tip_frac_comp_15', 'amt_tip_frac_comp_25', 'amt_tip_zero_vendcomp',\n",
       "       'amt_tip_zero_vend_15', 'amt_tip_zero_vend_25', 'amt_tip_zero_comp_15',\n",
       "       'amt_tip_zero_comp_25'],\n",
       "      dtype='object')"
      ]
     },
     "execution_count": 3,
     "metadata": {},
     "output_type": "execute_result"
    }
   ],
   "source": [
    "df.columns"
   ]
  },
  {
   "cell_type": "code",
   "execution_count": 4,
   "id": "ff6d76ee",
   "metadata": {},
   "outputs": [
    {
     "data": {
      "text/plain": [
       "Index(['invoice_guid', 'order_guid', 'city', 'invoice_datetime',\n",
       "       'gross_revenue', 'discount', 'coupon_discount',\n",
       "       'first_time_user_discount', 'order_rating', 'has_wash_and_fold',\n",
       "       'has_dry_cleaning', 'user_guid', 'user_email', 'is_first_order',\n",
       "       'is_enterprise_order', 'pickup_datetime', 'pickup_arrival_datetime',\n",
       "       'dropoff_datetime', 'dropoff_arrival_datetime', 'zip',\n",
       "       'pickup_driver_id', 'dropoff_driver_id', 'amount', 'is_refund',\n",
       "       'is_percent', 'tip_description', 'percent', 'tip_datetime', 'time_zone',\n",
       "       'tip_was_post_invoice', 'two_tip_first_amount', 'tip_default_plan',\n",
       "       'is_in_plan', 'tip_preference_created_at', 'tip_preference_expired_at',\n",
       "       'tip_preference_description', 'tip_preference_amount',\n",
       "       'tip_preference_percent', 'tip_preference_is_percent',\n",
       "       'is_enterprise_account', 'first_invoice_datetime',\n",
       "       'last_invoice_datetime', 'first_invoice_guid', 'last_invoice_guid'],\n",
       "      dtype='object')"
      ]
     },
     "execution_count": 4,
     "metadata": {},
     "output_type": "execute_result"
    }
   ],
   "source": [
    "dfz.columns"
   ]
  },
  {
   "cell_type": "code",
   "execution_count": 5,
   "id": "5ad737f1",
   "metadata": {},
   "outputs": [
    {
     "data": {
      "text/plain": [
       "\"\\nsum(dfs['high_choice'].dropna()) + sum(dfs['med_choice'].dropna()) + sum(dfs['low_choice'].dropna())\\ntip_recs = pd.DataFrame(data={'Customers (1000s)': [sum(dfs['high_choice'].dropna()), sum(dfs['med_choice'].dropna()), sum(dfs['low_choice'].dropna())], 'Recommendation': ['high', 'med', 'low']})\\nsns.barplot(x = 'Recommendation', y = 'Customers (1000s)', data=tip_recs);\\n#\\n#\\nmean_custom = np.mean(dfs[dfs['menu_tip'] == 0]['tip'])\\nmedian_custom = np.median(dfs[dfs['menu_tip'] == 0]['tip'])\\nprint(mean_custom, median_custom)\\n#\\n#\\nnon_zero_tips = dfs[dfs['tip'] != 0]\\nmean_custom = np.mean(dfs[dfs['menu_tip'] == 1]['tip'])\\nmedian_custom = np.median(dfs[dfs['menu_tip'] == 1]['tip'])\\nprint('w/zero:', mean_custom, median_custom)\\n\""
      ]
     },
     "execution_count": 5,
     "metadata": {},
     "output_type": "execute_result"
    }
   ],
   "source": [
    "\"\"\"\n",
    "sum(dfs['high_choice'].dropna()) + sum(dfs['med_choice'].dropna()) + sum(dfs['low_choice'].dropna())\n",
    "tip_recs = pd.DataFrame(data={'Customers (1000s)': [sum(dfs['high_choice'].dropna()), sum(dfs['med_choice'].dropna()), sum(dfs['low_choice'].dropna())], 'Recommendation': ['high', 'med', 'low']})\n",
    "sns.barplot(x = 'Recommendation', y = 'Customers (1000s)', data=tip_recs);\n",
    "#\n",
    "#\n",
    "mean_custom = np.mean(dfs[dfs['menu_tip'] == 0]['tip'])\n",
    "median_custom = np.median(dfs[dfs['menu_tip'] == 0]['tip'])\n",
    "print(mean_custom, median_custom)\n",
    "#\n",
    "#\n",
    "non_zero_tips = dfs[dfs['tip'] != 0]\n",
    "mean_custom = np.mean(dfs[dfs['menu_tip'] == 1]['tip'])\n",
    "median_custom = np.median(dfs[dfs['menu_tip'] == 1]['tip'])\n",
    "print('w/zero:', mean_custom, median_custom)\n",
    "\"\"\""
   ]
  },
  {
   "cell_type": "markdown",
   "id": "47ace606",
   "metadata": {},
   "source": [
    "<h3>                Figure 2:</h3>\n",
    "$$y_i ~ = ~ \\beta_0 + \\beta_1x_{i,1} + \\beta_2x_{i,2} + \\epsilon_i$$\n",
    "\n",
    "\n",
    "<br>\n",
    "<center> $y_i$: tip fraction of the total bill for observation $i$\n",
    "<br><center> $x_{i,1}$: environment dummy for observation $i$ (1 for online, 0 for in person)\n",
    "<br><center> $x_{i,2}$: normalized fare price for observation $i$\n",
    "<br><center> We are interested in the significance of $\\hat{\\beta_1}$."
   ]
  },
  {
   "cell_type": "code",
   "execution_count": 6,
   "id": "4924536e",
   "metadata": {},
   "outputs": [],
   "source": [
    "dfs = df\n",
    "df_in_person = df\n",
    "df_online = dfz\n",
    "\n",
    "def percent_func(x):\n",
    "    array = re.findall('^[^$]*$', x)\n",
    "    if array != []:\n",
    "        return array[0]\n",
    "def contains_25(x):\n",
    "    if re.findall('^.*25.*$', x) != []:\n",
    "        array = re.findall('^.*25.*$', x)\n",
    "        return 20\n",
    "    \n",
    "df_online['percent_menu_tips'] = df_online['tip_default_plan'].astype(str).apply(percent_func)\n",
    "df_online['percent_menu_tips'] = df_online['percent_menu_tips'].astype(str).apply(contains_25)\n",
    "df_online = df_online[df_online['percent_menu_tips'] == 20]\n",
    "df_online['tip_frac'] = df_online['amount'] / df_online['gross_revenue']\n",
    "df_online['tip_percent'] = df_online['tip_frac'] * 100\n",
    "df_online = df_online[['percent_menu_tips', 'amount', 'tip_percent', 'gross_revenue']]\n",
    "df_online['fare'] = df_online['gross_revenue']\n",
    "df_online['tip'] = df_online['amount']\n",
    "df_online['tip_frac'] = df_online['tip_percent']\n",
    "df_online['median_menu_tip'] = df_online['percent_menu_tips']\n",
    "df_online = df_online[['fare', 'tip_frac']]\n",
    "\n",
    "df_in_person = df_in_person[['fare', 'tip_frac', 'vendor']]\n",
    "df_in_person = df_in_person[df_in_person['vendor'] == 'Competitor']\n",
    "df_in_person = df_in_person[['fare', 'tip_frac']]\n",
    "\n",
    "df_online_orig = df_online\n",
    "df_in_person_orig = df_in_person"
   ]
  },
  {
   "cell_type": "code",
   "execution_count": 7,
   "id": "1c415cd3",
   "metadata": {},
   "outputs": [
    {
     "name": "stdout",
     "output_type": "stream",
     "text": [
      "online fare median: 49.77 online fare mean: 64.30504532932343\n",
      "in-person fare median: 8.1 in-person fare mean: 9.690212687012997\n"
     ]
    }
   ],
   "source": [
    "print('online fare median:', np.median(df_online['fare']), 'online fare mean:', np.mean(df_online['fare']))\n",
    "print('in-person fare median:', np.median(df_in_person['fare']), 'in-person fare mean:', np.mean(df_in_person['fare']))"
   ]
  },
  {
   "cell_type": "code",
   "execution_count": 131,
   "id": "c41b8888",
   "metadata": {},
   "outputs": [
    {
     "data": {
      "image/png": "[encoded data removed]",
      "text/plain": [
       "<Figure size 576x432 with 1 Axes>"
      ]
     },
     "metadata": {},
     "output_type": "display_data"
    }
   ],
   "source": [
    "df_in_person = df_in_person_orig\n",
    "df_online = df_online_orig\n",
    "\n",
    "df_online = df_online[df_online['fare'] < 100]\n",
    "mean_online = np.mean(df_online['fare'])\n",
    "sd_online = np.std(df_online['fare'])\n",
    "def normalize_online(x):\n",
    "    return (x - mean_online)/sd_online\n",
    "df_online['fare'] = df_online['fare'].apply(normalize_online)\n",
    "df_online = df_online[['fare', 'tip_frac']]\n",
    "\n",
    "\n",
    "\n",
    "#normalize in_person fare\n",
    "df_in_person = df_in_person[df_in_person['fare'] < 30]\n",
    "mean_in_person = np.mean(df_in_person['fare'])\n",
    "sd_in_person = np.std(df_in_person['fare'])\n",
    "def normalize_in_person(x):\n",
    "    return (x - mean_in_person)/sd_in_person\n",
    "df_in_person['fare'] = df_in_person['fare'].apply(normalize_in_person)\n",
    "df_in_person = df_in_person[['tip_frac', 'fare']]\n",
    "\n",
    "sns.set(rc={\"figure.figsize\":(8, 6)})\n",
    "sns.set_style(\"whitegrid\")\n",
    "\n",
    "df_in_person = df_in_person.sample(10000)\n",
    "df_in_person = df_in_person[df_in_person['tip_frac']>0]\n",
    "sns.kdeplot('fare', 'tip_frac', data=df_in_person, shade=True)\n",
    "sns.regplot(x=\"fare\", y=\"tip_frac\", data=df_in_person, scatter=False, color=\"gold\");\n",
    "\n",
    "\"\"\"df_online = df_online.sample(5000)\n",
    "df_online = df_online[df_online['tip_frac']>0]\n",
    "sns.kdeplot('fare', 'tip_frac', data=df_online, shade=False)\"\"\"\n",
    "\n",
    "plt.title(\"In Person Tip Fraction relationship to Normalized Total Bill\", fontdict = {'fontsize' : 19})\n",
    "plt.ylim(0, 50);"
   ]
  },
  {
   "cell_type": "code",
   "execution_count": 132,
   "id": "48c4f406",
   "metadata": {},
   "outputs": [
    {
     "data": {
      "image/png": "[encoded data removed]",
      "text/plain": [
       "<Figure size 576x432 with 1 Axes>"
      ]
     },
     "metadata": {},
     "output_type": "display_data"
    }
   ],
   "source": [
    "sns.set(rc={\"figure.figsize\":(8, 6)})\n",
    "sns.set_style(\"whitegrid\")\n",
    "df_online.size\n",
    "df_online = df_online.sample(10000)\n",
    "df_online = df_online[df_online['tip_frac']>0]\n",
    "sns.kdeplot('fare', 'tip_frac', color=\"red\", data=df_online, shade=True)\n",
    "sns.regplot(x=\"fare\", y=\"tip_frac\", data=df_online, scatter=False, color=\"gold\");\n",
    "\n",
    "plt.title(\"Online Tip Fraction relationship to Normalized Total Bill\", fontdict = {'fontsize' : 19})\n",
    "plt.ylim(0, 25);"
   ]
  },
  {
   "cell_type": "code",
   "execution_count": 135,
   "id": "e8821dde",
   "metadata": {},
   "outputs": [
    {
     "data": {
      "image/png": "[encoded data removed]",
      "text/plain": [
       "<Figure size 576x432 with 2 Axes>"
      ]
     },
     "metadata": {},
     "output_type": "display_data"
    }
   ],
   "source": [
    "df_online = df_online_orig\n",
    "df_in_person = df_in_person_orig\n",
    "\n",
    "sns.set(rc={\"figure.figsize\":(8, 6)})\n",
    "df_online = df_online[df_online['fare'] < 60]\n",
    "df_online['fare'] = df_online['fare'].apply(round)\n",
    "df_online = df_online.groupby('fare').size().reset_index(name='fare counts')\n",
    "#sns.scatterplot(x='fare', y='tip_frac', data=df_in_person)\n",
    "res = sns.heatmap(df_online[['fare counts']])\n",
    "plt.title(\"Online Tip Total Bill Frequencies (rounded)\", fontdict = {'fontsize' : 19})\n",
    "res.set_xticklabels(res.get_xmajorticklabels(), fontsize = 12);"
   ]
  },
  {
   "cell_type": "code",
   "execution_count": 136,
   "id": "317f7e59",
   "metadata": {},
   "outputs": [
    {
     "data": {
      "image/png": "[encoded data removed]",
      "text/plain": [
       "<Figure size 576x432 with 2 Axes>"
      ]
     },
     "metadata": {},
     "output_type": "display_data"
    }
   ],
   "source": [
    "df_online = df_online_orig\n",
    "df_in_person = df_in_person_orig\n",
    "\n",
    "sns.set(rc={\"figure.figsize\":(8, 6)})\n",
    "df_in_person = df_in_person[df_in_person['fare'] < 20]\n",
    "df_in_person['fare'] = df_in_person['fare'].apply(round)\n",
    "df_in_person = df_in_person.groupby('fare').size().reset_index(name='fare counts')\n",
    "#sns.scatterplot(x='fare', y='tip_frac', data=df_in_person)\n",
    "res = sns.heatmap(df_in_person[['fare counts']])\n",
    "plt.title(\"In Person Tip Total Bill Frequencies (rounded)\", fontdict = {'fontsize' : 19})\n",
    "res.set_xticklabels(res.get_xmajorticklabels(), fontsize = 12);"
   ]
  },
  {
   "cell_type": "code",
   "execution_count": 11,
   "id": "d191b348",
   "metadata": {},
   "outputs": [],
   "source": [
    "#SSO/DSO\n",
    "\n",
    "dfs = df\n",
    "\n",
    "df_in_person = df\n",
    "df_online = dfz\n",
    "\n",
    "def percent_func(x):\n",
    "    array = re.findall('^[^$]*$', x)\n",
    "    if array != []:\n",
    "        return array[0]\n",
    "def contains_25(x):\n",
    "    if re.findall('^.*25.*$', x) != []:\n",
    "        array = re.findall('^.*25.*$', x)\n",
    "        return 20\n",
    "    \n",
    "df_online['percent_menu_tips'] = df_online['tip_default_plan'].astype(str).apply(percent_func)\n",
    "df_online['percent_menu_tips'] = df_online['percent_menu_tips'].astype(str).apply(contains_25)\n",
    "df_online = df_online[df_online['percent_menu_tips'] == 20]\n",
    "df_online['tip_frac'] = df_online['amount'] / df_online['gross_revenue']\n",
    "df_online['tip_percent'] = df_online['tip_frac'] * 100\n",
    "df_online = df_online[['percent_menu_tips', 'amount', 'tip_percent', 'gross_revenue']]\n",
    "df_online['fare'] = df_online['gross_revenue']\n",
    "df_online['tip'] = df_online['amount']\n",
    "df_online['tip_frac'] = df_online['tip_percent']\n",
    "df_online['median_menu_tip'] = df_online['percent_menu_tips']\n",
    "\n",
    "#normalize online fare\n",
    "df_online = df_online[df_online['fare'] < 100]\n",
    "mean_online = np.mean(df_online['fare'])\n",
    "sd_online = np.std(df_online['fare'])\n",
    "def normalize_online(x):\n",
    "    return (x - mean_online)/sd_online\n",
    "df_online['fare'] = df_online['fare'].apply(normalize_online)\n",
    "df_online = df_online[['fare', 'tip_frac']]\n",
    "\n",
    "\n",
    "\n",
    "df_in_person = df_in_person[df_in_person['vendor'] == 'Competitor']\n",
    "\n",
    "#normalize in_person fare\n",
    "df_in_person = df_in_person[df_in_person['fare'] < 30]\n",
    "mean_in_person = np.mean(df_in_person['fare'])\n",
    "sd_in_person = np.std(df_in_person['fare'])\n",
    "def normalize_in_person(x):\n",
    "    return (x - mean_in_person)/sd_in_person\n",
    "df_in_person['fare'] = df_in_person['fare'].apply(normalize_in_person)\n",
    "df_in_person = df_in_person[['tip_frac', 'fare']]\n",
    "\n",
    "\n",
    "same_size = 0\n",
    "\n",
    "if same_size:\n",
    "    if df_online.shape[0] > df_in_person.shape[0]:\n",
    "        df_online = df_online.sample(df_in_person.shape[0], replace=True)\n",
    "    else:\n",
    "        df_in_person = df_in_person.sample(df_online.shape[0], replace=True)\n",
    "\n",
    "df_online['environment_dummy'] = 1\n",
    "df_in_person['environment_dummy'] = 0\n",
    "df_combo = df_in_person.append(df_online)\n",
    "\n",
    "diff_size_overlap = sm.ols(formula=\"tip_frac ~ environment_dummy\", data=df_combo).fit()\n",
    "diff_size_fare_overlap = sm.ols(formula=\"tip_frac ~ environment_dummy + fare\", data=df_combo).fit()\n",
    "\n",
    "same_size = 1\n",
    "\n",
    "if same_size:\n",
    "    if df_online.shape[0] > df_in_person.shape[0]:\n",
    "        df_online = df_online.sample(df_in_person.shape[0], replace=True)\n",
    "    else:\n",
    "        df_in_person = df_in_person.sample(df_online.shape[0], replace=True)\n",
    "\n",
    "df_online['environment_dummy'] = 1\n",
    "df_in_person['environment_dummy'] = 0\n",
    "df_combo = df_in_person.append(df_online)\n",
    "\n",
    "same_size_overlap = sm.ols(formula=\"tip_frac ~ environment_dummy\", data=df_combo).fit()\n",
    "same_size_fare_overlap = sm.ols(formula=\"tip_frac ~ environment_dummy + fare\", data=df_combo).fit()"
   ]
  },
  {
   "cell_type": "code",
   "execution_count": 12,
   "id": "cafc8392",
   "metadata": {},
   "outputs": [],
   "source": [
    "#SSA/DSA\n",
    "\n",
    "dfs = df\n",
    "\n",
    "df_in_person = df\n",
    "df_online = dfz\n",
    "    \n",
    "df_online['tip_frac'] = df_online['amount'] / df_online['gross_revenue']\n",
    "df_online['tip_percent'] = df_online['tip_frac'] * 100\n",
    "\n",
    "df_online['fare'] = df_online['gross_revenue']\n",
    "df_online = df_online[df_online['fare'] < 100]\n",
    "mean_online = np.mean(df_online['fare'])\n",
    "sd_online = np.std(df_online['fare'])\n",
    "def normalize_online(x):\n",
    "    return (x - mean_online)/sd_online\n",
    "df_online['fare'] = df_online['fare'].apply(normalize_online)\n",
    "df_online = df_online[['fare', 'tip_frac']]\n",
    "\n",
    "df_in_person = df_in_person[df_in_person['fare'] < 30]\n",
    "mean_in_person = np.mean(df_in_person['fare'])\n",
    "sd_in_person = np.std(df_in_person['fare'])\n",
    "def normalize_in_person(x):\n",
    "    return (x - mean_in_person)/sd_in_person\n",
    "df_in_person['fare'] = df_in_person['fare'].apply(normalize_in_person)\n",
    "df_in_person = df_in_person[['tip_frac', 'fare']]\n",
    "\n",
    "\n",
    "same_size = 0\n",
    "\n",
    "if same_size:\n",
    "    if df_online.shape[0] > df_in_person.shape[0]:\n",
    "        df_online = df_online.sample(df_in_person.shape[0], replace=True)\n",
    "    else:\n",
    "        df_in_person = df_in_person.sample(df_online.shape[0], replace=True)\n",
    "\n",
    "df_online['environment_dummy'] = 1\n",
    "df_in_person['environment_dummy'] = 0\n",
    "df_combo = df_in_person.append(df_online)\n",
    "\n",
    "diff_size_all = sm.ols(formula=\"tip_frac ~ environment_dummy\", data=df_combo).fit()\n",
    "diff_size_fare_all = sm.ols(formula=\"tip_frac ~ environment_dummy + fare\", data=df_combo).fit()\n",
    "\n",
    "same_size = 1\n",
    "\n",
    "if same_size:\n",
    "    if df_online.shape[0] > df_in_person.shape[0]:\n",
    "        df_online = df_online.sample(df_in_person.shape[0], replace=True)\n",
    "    else:\n",
    "        df_in_person = df_in_person.sample(df_online.shape[0], replace=True)\n",
    "\n",
    "df_online['environment_dummy'] = 1\n",
    "df_in_person['environment_dummy'] = 0\n",
    "df_combo = df_in_person.append(df_online)\n",
    "\n",
    "same_size_all = sm.ols(formula=\"tip_frac ~ environment_dummy\", data=df_combo).fit()\n",
    "same_size_fare_all = sm.ols(formula=\"tip_frac ~ environment_dummy + fare\", data=df_combo).fit()"
   ]
  },
  {
   "cell_type": "code",
   "execution_count": 13,
   "id": "2187b382",
   "metadata": {},
   "outputs": [
    {
     "data": {
      "text/plain": [
       "'\\n\\n#SSCO/DSCO\\n\\ndef bigger_than_15(x):\\n    for item in x:\\n        if float(item) >= 15:\\n            return 1\\n    return 0\\n\\ndef percent_func(x):\\n    array = re.findall(\\'^[^$]*$\\', x)\\n    if array != []:\\n        return array[0]\\n    \\ndef contains_25(x):\\n    if re.findall(\\'^.*25.*$\\', x) != []:\\n        array = re.findall(\\'^.*25.*$\\', x)\\n        return 20\\n    \\ndf_in_person = df\\ndf_online = dfz\\n\\n\\ndf_online[\\'percent_menu_tips\\'] = df_online[\\'tip_default_plan\\'].astype(str).apply(percent_func)\\ndf_online[\\'percent_menu_tips\\'] = df_online[\\'percent_menu_tips\\'].astype(str).apply(contains_25)\\ndf_online = df_online[df_online[\\'percent_menu_tips\\'] == 20]\\ndf_online[\\'tip_frac\\'] = df_online[\\'amount\\'] / df_online[\\'gross_revenue\\']\\ndf_online[\\'tip_percent\\'] = df_online[\\'tip_frac\\'] * 100\\ndf_online[\\'fare\\'] = df_online[\\'gross_revenue\\']\\ndf_online[\\'tip\\'] = df_online[\\'amount\\']\\ndf_online[\\'tip_frac\\'] = df_online[\\'tip_percent\\']\\ndf_online[\\'median_menu_tip\\'] = df_online[\\'percent_menu_tips\\']\\n\\ndf_in_person = df_in_person[df_in_person[\\'vendor\\'] == \\'Competitor\\']\\n\\n\\n\\ndf_online = df_online[[\\'gross_revenue\\', \\'amount\\', \\'tip_default_plan\\']]\\ndf_online[\\'tip_default_plan\\'] = df_online[\\'tip_default_plan\\'].str.replace(\\'[%$]\\', \\'\\')\\ndf_online[\\'tip_default_plan\\'] = df_online[\\'tip_default_plan\\'].str.split(\\',\\')\\ndf_online[\\'is_percent\\'] = df_online[\\'tip_default_plan\\'].apply(bigger_than_15)\\n\\nsplit_df = pd.DataFrame(df_online[\\'tip_default_plan\\'].tolist(), columns=[\\'low_choice\\', \\'med_choice\\', \\'high_choice\\'])\\ndf_online = pd.concat([df_online, split_df], axis=1)\\n\\n\\ndf_online_percents = df_online[df_online[\\'is_percent\\'] == 1]\\ndf_online_dollars = df_online[df_online[\\'is_percent\\'] == 0]\\n\\n\\ndf_online_percents[\\'low_choice\\'] = (df_online_percents[\\'low_choice\\'].astype(float) / 100) * df_online_percents[\\'gross_revenue\\']\\ndf_online_percents[\\'med_choice\\'] = (df_online_percents[\\'med_choice\\'].astype(float) / 100) * df_online_percents[\\'gross_revenue\\']\\ndf_online_percents[\\'high_choice\\'] = (df_online_percents[\\'high_choice\\'].astype(float) / 100) * df_online_percents[\\'gross_revenue\\']\\ndf_online = df_online_percents.append(df_online_dollars)\\n\\n\\ndf_online[\\'low_choice\\'] = (df_online[\\'low_choice\\'] == df_online[\\'amount\\']) * 1\\ndf_online[\\'med_choice\\'] = (df_online[\\'med_choice\\'] == df_online[\\'amount\\']) * 1\\ndf_online[\\'high_choice\\'] = (df_online[\\'high_choice\\'] == df_online[\\'amount\\']) * 1\\n\\n\\ndf_online[\\'tip_frac\\'] = df_online[\\'amount\\'] / df_online[\\'gross_revenue\\']\\ndf_online[\\'tip_percent\\'] = df_online[\\'tip_frac\\'] * 100\\ndf_online = df_online[[\\'low_choice\\', \\'med_choice\\', \\'high_choice\\', \\'amount\\', \\'tip_percent\\', \\'gross_revenue\\']].dropna()\\ndf_online[\\'fare\\'] = df_online[\\'gross_revenue\\']\\ndf_online[\\'tip\\'] = df_online[\\'amount\\']\\ndf_online[\\'tip_frac\\'] = df_online[\\'tip_percent\\']\\n\\ndf_online = df_online[[\\'tip_frac\\', \\'low_choice\\', \\'med_choice\\', \\'high_choice\\']]\\ndf_in_person = df_in_person[[\\'tip_frac\\', \\'low_choice\\', \\'med_choice\\', \\'high_choice\\']].dropna()\\n\\nsame_size = 0\\n\\nif same_size:\\n    if df_online.shape[0] > df_in_person.shape[0]:\\n        df_online = df_online.sample(df_in_person.shape[0], replace=True)\\n    else:\\n        df_in_person = df_in_person.sample(df_online.shape[0], replace=True)\\n\\ndf_online[\\'environment_dummy\\'] = 1\\ndf_in_person[\\'environment_dummy\\'] = 0\\ndf_combo = df_in_person.append(df_online)\\n\\ndiff_size_choice_overlap = sm.ols(formula=\"tip_frac ~ environment_dummy + low_choice + med_choice + high_choice\", data=df_combo).fit()\\n\\n\\nsame_size = 1\\n\\nif same_size:\\n    if df_online.shape[0] > df_in_person.shape[0]:\\n        df_online = df_online.sample(df_in_person.shape[0], replace=True)\\n    else:\\n        df_in_person = df_in_person.sample(df_online.shape[0], replace=True)\\n\\ndf_online[\\'environment_dummy\\'] = 1\\ndf_in_person[\\'environment_dummy\\'] = 0\\ndf_combo = df_in_person.append(df_online)\\n\\nsame_size_choice_overlap = sm.ols(formula=\"tip_frac ~ environment_dummy + low_choice + med_choice + high_choice\", data=df_combo).fit()\\n\\n'"
      ]
     },
     "execution_count": 13,
     "metadata": {},
     "output_type": "execute_result"
    }
   ],
   "source": [
    "\"\"\"\n",
    "\n",
    "#SSCO/DSCO\n",
    "\n",
    "def bigger_than_15(x):\n",
    "    for item in x:\n",
    "        if float(item) >= 15:\n",
    "            return 1\n",
    "    return 0\n",
    "\n",
    "def percent_func(x):\n",
    "    array = re.findall('^[^$]*$', x)\n",
    "    if array != []:\n",
    "        return array[0]\n",
    "    \n",
    "def contains_25(x):\n",
    "    if re.findall('^.*25.*$', x) != []:\n",
    "        array = re.findall('^.*25.*$', x)\n",
    "        return 20\n",
    "    \n",
    "df_in_person = df\n",
    "df_online = dfz\n",
    "\n",
    "\n",
    "df_online['percent_menu_tips'] = df_online['tip_default_plan'].astype(str).apply(percent_func)\n",
    "df_online['percent_menu_tips'] = df_online['percent_menu_tips'].astype(str).apply(contains_25)\n",
    "df_online = df_online[df_online['percent_menu_tips'] == 20]\n",
    "df_online['tip_frac'] = df_online['amount'] / df_online['gross_revenue']\n",
    "df_online['tip_percent'] = df_online['tip_frac'] * 100\n",
    "df_online['fare'] = df_online['gross_revenue']\n",
    "df_online['tip'] = df_online['amount']\n",
    "df_online['tip_frac'] = df_online['tip_percent']\n",
    "df_online['median_menu_tip'] = df_online['percent_menu_tips']\n",
    "\n",
    "df_in_person = df_in_person[df_in_person['vendor'] == 'Competitor']\n",
    "\n",
    "\n",
    "\n",
    "df_online = df_online[['gross_revenue', 'amount', 'tip_default_plan']]\n",
    "df_online['tip_default_plan'] = df_online['tip_default_plan'].str.replace('[%$]', '')\n",
    "df_online['tip_default_plan'] = df_online['tip_default_plan'].str.split(',')\n",
    "df_online['is_percent'] = df_online['tip_default_plan'].apply(bigger_than_15)\n",
    "\n",
    "split_df = pd.DataFrame(df_online['tip_default_plan'].tolist(), columns=['low_choice', 'med_choice', 'high_choice'])\n",
    "df_online = pd.concat([df_online, split_df], axis=1)\n",
    "\n",
    "\n",
    "df_online_percents = df_online[df_online['is_percent'] == 1]\n",
    "df_online_dollars = df_online[df_online['is_percent'] == 0]\n",
    "\n",
    "\n",
    "df_online_percents['low_choice'] = (df_online_percents['low_choice'].astype(float) / 100) * df_online_percents['gross_revenue']\n",
    "df_online_percents['med_choice'] = (df_online_percents['med_choice'].astype(float) / 100) * df_online_percents['gross_revenue']\n",
    "df_online_percents['high_choice'] = (df_online_percents['high_choice'].astype(float) / 100) * df_online_percents['gross_revenue']\n",
    "df_online = df_online_percents.append(df_online_dollars)\n",
    "\n",
    "\n",
    "df_online['low_choice'] = (df_online['low_choice'] == df_online['amount']) * 1\n",
    "df_online['med_choice'] = (df_online['med_choice'] == df_online['amount']) * 1\n",
    "df_online['high_choice'] = (df_online['high_choice'] == df_online['amount']) * 1\n",
    "\n",
    "\n",
    "df_online['tip_frac'] = df_online['amount'] / df_online['gross_revenue']\n",
    "df_online['tip_percent'] = df_online['tip_frac'] * 100\n",
    "df_online = df_online[['low_choice', 'med_choice', 'high_choice', 'amount', 'tip_percent', 'gross_revenue']].dropna()\n",
    "df_online['fare'] = df_online['gross_revenue']\n",
    "df_online['tip'] = df_online['amount']\n",
    "df_online['tip_frac'] = df_online['tip_percent']\n",
    "\n",
    "df_online = df_online[['tip_frac', 'low_choice', 'med_choice', 'high_choice']]\n",
    "df_in_person = df_in_person[['tip_frac', 'low_choice', 'med_choice', 'high_choice']].dropna()\n",
    "\n",
    "same_size = 0\n",
    "\n",
    "if same_size:\n",
    "    if df_online.shape[0] > df_in_person.shape[0]:\n",
    "        df_online = df_online.sample(df_in_person.shape[0], replace=True)\n",
    "    else:\n",
    "        df_in_person = df_in_person.sample(df_online.shape[0], replace=True)\n",
    "\n",
    "df_online['environment_dummy'] = 1\n",
    "df_in_person['environment_dummy'] = 0\n",
    "df_combo = df_in_person.append(df_online)\n",
    "\n",
    "diff_size_choice_overlap = sm.ols(formula=\"tip_frac ~ environment_dummy + low_choice + med_choice + high_choice\", data=df_combo).fit()\n",
    "\n",
    "\n",
    "same_size = 1\n",
    "\n",
    "if same_size:\n",
    "    if df_online.shape[0] > df_in_person.shape[0]:\n",
    "        df_online = df_online.sample(df_in_person.shape[0], replace=True)\n",
    "    else:\n",
    "        df_in_person = df_in_person.sample(df_online.shape[0], replace=True)\n",
    "\n",
    "df_online['environment_dummy'] = 1\n",
    "df_in_person['environment_dummy'] = 0\n",
    "df_combo = df_in_person.append(df_online)\n",
    "\n",
    "same_size_choice_overlap = sm.ols(formula=\"tip_frac ~ environment_dummy + low_choice + med_choice + high_choice\", data=df_combo).fit()\n",
    "\n",
    "\"\"\""
   ]
  },
  {
   "cell_type": "code",
   "execution_count": 14,
   "id": "2e88e632",
   "metadata": {},
   "outputs": [
    {
     "data": {
      "text/plain": [
       "'\\n\\n#SSCA/DSCA\\n\\ndef bigger_than_15(x):\\n    for item in x:\\n        if float(item) >= 15:\\n            return 1\\n    return 0\\n    \\ndf_in_person = df\\ndf_online = dfz\\n\\ndf_online = df_online[[\\'gross_revenue\\', \\'amount\\', \\'tip_default_plan\\']]\\ndf_online[\\'tip_default_plan\\'] = df_online[\\'tip_default_plan\\'].str.replace(\\'[%$]\\', \\'\\')\\ndf_online[\\'tip_default_plan\\'] = df_online[\\'tip_default_plan\\'].str.split(\\',\\')\\ndf_online[\\'is_percent\\'] = df_online[\\'tip_default_plan\\'].apply(bigger_than_15)\\n\\nsplit_df = pd.DataFrame(df_online[\\'tip_default_plan\\'].tolist(), columns=[\\'low_choice\\', \\'med_choice\\', \\'high_choice\\'])\\ndf_online = pd.concat([df_online, split_df], axis=1)\\n\\n\\ndf_online_percents = df_online[df_online[\\'is_percent\\'] == 1]\\ndf_online_dollars = df_online[df_online[\\'is_percent\\'] == 0]\\n\\n\\ndf_online_percents[\\'low_choice\\'] = (df_online_percents[\\'low_choice\\'].astype(float) / 100) * df_online_percents[\\'gross_revenue\\']\\ndf_online_percents[\\'med_choice\\'] = (df_online_percents[\\'med_choice\\'].astype(float) / 100) * df_online_percents[\\'gross_revenue\\']\\ndf_online_percents[\\'high_choice\\'] = (df_online_percents[\\'high_choice\\'].astype(float) / 100) * df_online_percents[\\'gross_revenue\\']\\ndf_online = df_online_percents.append(df_online_dollars)\\n\\n\\ndf_online[\\'low_choice\\'] = (df_online[\\'low_choice\\'] == df_online[\\'amount\\']) * 1\\ndf_online[\\'med_choice\\'] = (df_online[\\'med_choice\\'] == df_online[\\'amount\\']) * 1\\ndf_online[\\'high_choice\\'] = (df_online[\\'high_choice\\'] == df_online[\\'amount\\']) * 1\\n\\n\\ndf_online[\\'tip_frac\\'] = df_online[\\'amount\\'] / df_online[\\'gross_revenue\\']\\ndf_online[\\'tip_percent\\'] = df_online[\\'tip_frac\\'] * 100\\ndf_online = df_online[[\\'low_choice\\', \\'med_choice\\', \\'high_choice\\', \\'amount\\', \\'tip_percent\\', \\'gross_revenue\\']].dropna()\\ndf_online[\\'fare\\'] = df_online[\\'gross_revenue\\']\\ndf_online[\\'tip\\'] = df_online[\\'amount\\']\\ndf_online[\\'tip_frac\\'] = df_online[\\'tip_percent\\']\\n\\ndf_online = df_online[[\\'tip_frac\\', \\'low_choice\\', \\'med_choice\\', \\'high_choice\\']]\\ndf_in_person = df_in_person[[\\'tip_frac\\', \\'low_choice\\', \\'med_choice\\', \\'high_choice\\']].dropna()\\n\\nsame_size = 0\\n\\nif same_size:\\n    if df_online.shape[0] > df_in_person.shape[0]:\\n        df_online = df_online.sample(df_in_person.shape[0], replace=True)\\n    else:\\n        df_in_person = df_in_person.sample(df_online.shape[0], replace=True)\\n\\ndf_online[\\'environment_dummy\\'] = 1\\ndf_in_person[\\'environment_dummy\\'] = 0\\ndf_combo = df_in_person.append(df_online)\\n\\ndiff_size_choice_all = sm.ols(formula=\"tip_frac ~ environment_dummy + low_choice + med_choice + high_choice\", data=df_combo).fit()\\n\\n\\nsame_size = 1\\n\\nif same_size:\\n    if df_online.shape[0] > df_in_person.shape[0]:\\n        df_online = df_online.sample(df_in_person.shape[0], replace=True)\\n    else:\\n        df_in_person = df_in_person.sample(df_online.shape[0], replace=True)\\n\\ndf_online[\\'environment_dummy\\'] = 1\\ndf_in_person[\\'environment_dummy\\'] = 0\\ndf_combo = df_in_person.append(df_online)\\n\\nsame_size_choice_all = sm.ols(formula=\"tip_frac ~ environment_dummy + low_choice + med_choice + high_choice\", data=df_combo).fit()\\n\\n'"
      ]
     },
     "execution_count": 14,
     "metadata": {},
     "output_type": "execute_result"
    }
   ],
   "source": [
    "\"\"\"\n",
    "\n",
    "#SSCA/DSCA\n",
    "\n",
    "def bigger_than_15(x):\n",
    "    for item in x:\n",
    "        if float(item) >= 15:\n",
    "            return 1\n",
    "    return 0\n",
    "    \n",
    "df_in_person = df\n",
    "df_online = dfz\n",
    "\n",
    "df_online = df_online[['gross_revenue', 'amount', 'tip_default_plan']]\n",
    "df_online['tip_default_plan'] = df_online['tip_default_plan'].str.replace('[%$]', '')\n",
    "df_online['tip_default_plan'] = df_online['tip_default_plan'].str.split(',')\n",
    "df_online['is_percent'] = df_online['tip_default_plan'].apply(bigger_than_15)\n",
    "\n",
    "split_df = pd.DataFrame(df_online['tip_default_plan'].tolist(), columns=['low_choice', 'med_choice', 'high_choice'])\n",
    "df_online = pd.concat([df_online, split_df], axis=1)\n",
    "\n",
    "\n",
    "df_online_percents = df_online[df_online['is_percent'] == 1]\n",
    "df_online_dollars = df_online[df_online['is_percent'] == 0]\n",
    "\n",
    "\n",
    "df_online_percents['low_choice'] = (df_online_percents['low_choice'].astype(float) / 100) * df_online_percents['gross_revenue']\n",
    "df_online_percents['med_choice'] = (df_online_percents['med_choice'].astype(float) / 100) * df_online_percents['gross_revenue']\n",
    "df_online_percents['high_choice'] = (df_online_percents['high_choice'].astype(float) / 100) * df_online_percents['gross_revenue']\n",
    "df_online = df_online_percents.append(df_online_dollars)\n",
    "\n",
    "\n",
    "df_online['low_choice'] = (df_online['low_choice'] == df_online['amount']) * 1\n",
    "df_online['med_choice'] = (df_online['med_choice'] == df_online['amount']) * 1\n",
    "df_online['high_choice'] = (df_online['high_choice'] == df_online['amount']) * 1\n",
    "\n",
    "\n",
    "df_online['tip_frac'] = df_online['amount'] / df_online['gross_revenue']\n",
    "df_online['tip_percent'] = df_online['tip_frac'] * 100\n",
    "df_online = df_online[['low_choice', 'med_choice', 'high_choice', 'amount', 'tip_percent', 'gross_revenue']].dropna()\n",
    "df_online['fare'] = df_online['gross_revenue']\n",
    "df_online['tip'] = df_online['amount']\n",
    "df_online['tip_frac'] = df_online['tip_percent']\n",
    "\n",
    "df_online = df_online[['tip_frac', 'low_choice', 'med_choice', 'high_choice']]\n",
    "df_in_person = df_in_person[['tip_frac', 'low_choice', 'med_choice', 'high_choice']].dropna()\n",
    "\n",
    "same_size = 0\n",
    "\n",
    "if same_size:\n",
    "    if df_online.shape[0] > df_in_person.shape[0]:\n",
    "        df_online = df_online.sample(df_in_person.shape[0], replace=True)\n",
    "    else:\n",
    "        df_in_person = df_in_person.sample(df_online.shape[0], replace=True)\n",
    "\n",
    "df_online['environment_dummy'] = 1\n",
    "df_in_person['environment_dummy'] = 0\n",
    "df_combo = df_in_person.append(df_online)\n",
    "\n",
    "diff_size_choice_all = sm.ols(formula=\"tip_frac ~ environment_dummy + low_choice + med_choice + high_choice\", data=df_combo).fit()\n",
    "\n",
    "\n",
    "same_size = 1\n",
    "\n",
    "if same_size:\n",
    "    if df_online.shape[0] > df_in_person.shape[0]:\n",
    "        df_online = df_online.sample(df_in_person.shape[0], replace=True)\n",
    "    else:\n",
    "        df_in_person = df_in_person.sample(df_online.shape[0], replace=True)\n",
    "\n",
    "df_online['environment_dummy'] = 1\n",
    "df_in_person['environment_dummy'] = 0\n",
    "df_combo = df_in_person.append(df_online)\n",
    "\n",
    "same_size_choice_all = sm.ols(formula=\"tip_frac ~ environment_dummy + low_choice + med_choice + high_choice\", data=df_combo).fit()\n",
    "\n",
    "\"\"\""
   ]
  },
  {
   "cell_type": "code",
   "execution_count": 15,
   "id": "42d8c362",
   "metadata": {},
   "outputs": [
    {
     "data": {
      "text/html": [
       "<table style=\"text-align:center\"><tr><td colspan=\"9\" style=\"border-bottom: 1px solid black\"></td></tr><tr><td style=\"text-align:left\"></td><td colspan=\"8\"><em>Dependent variable:tip_frac</em></td></tr><tr><td style=\"text-align:left\"></td><tr><td></td><td colspan=\"1\">SSA</td><td colspan=\"1\">DSA</td><td colspan=\"1\">SSO</td><td colspan=\"1\">DSO</td><td colspan=\"1\">SSFA</td><td colspan=\"1\">DSFA</td><td colspan=\"1\">SSFO</td><td colspan=\"1\">DSFO</td></tr><tr><td colspan=\"9\" style=\"border-bottom: 1px solid black\"></td></tr><tr><td style=\"text-align:left\">Intercept</td><td>19.975<sup>***</sup></td><td>19.982<sup>***</sup></td><td>18.241<sup>***</sup></td><td>18.280<sup>***</sup></td><td>19.974<sup>***</sup></td><td>19.982<sup>***</sup></td><td>18.240<sup>***</sup></td><td>18.280<sup>***</sup></td></tr><tr><td style=\"text-align:left\"></td><td>(0.019)</td><td>(0.004)</td><td>(0.060)</td><td>(0.004)</td><td>(0.019)</td><td>(0.004)</td><td>(0.059)</td><td>(0.004)</td></tr><tr><td style=\"text-align:left\">Environment (Online) Dummy</td><td>-19.954<sup>***</sup></td><td>-19.961<sup>***</sup></td><td>-15.525<sup>***</sup></td><td>-15.564<sup>***</sup></td><td>-19.953<sup>***</sup></td><td>-19.961<sup>***</sup></td><td>-15.524<sup>***</sup></td><td>-15.564<sup>***</sup></td></tr><tr><td style=\"text-align:left\"></td><td>(0.027)</td><td>(0.029)</td><td>(0.084)</td><td>(0.070)</td><td>(0.027)</td><td>(0.029)</td><td>(0.084)</td><td>(0.069)</td></tr><tr><td style=\"text-align:left\">Fare</td><td></td><td></td><td></td><td></td><td>-1.354<sup>***</sup></td><td>-2.689<sup>***</sup></td><td>-0.244<sup>***</sup></td><td>-1.595<sup>***</sup></td></tr><tr><td style=\"text-align:left\"></td><td></td><td></td><td></td><td></td><td>(0.013)</td><td>(0.004)</td><td>(0.042)</td><td>(0.004)</td></tr><td colspan=\"9\" style=\"border-bottom: 1px solid black\"></td></tr><tr><td style=\"text-align: left\">Observations</td><td>436,340</td><td>13,880,358</td><td>34,786</td><td>6,491,661</td><td>436,340</td><td>13,880,358</td><td>34,786</td><td>6,491,661</td></tr><tr><td style=\"text-align: left\">R<sup>2</sup></td><td>0.553</td><td>0.032</td><td>0.494</td><td>0.008</td><td>0.563</td><td>0.070</td><td>0.495</td><td>0.037</td></tr><tr><td style=\"text-align: left\">Adjusted R<sup>2</sup></td><td>0.553</td><td>0.032</td><td>0.494</td><td>0.008</td><td>0.563</td><td>0.070</td><td>0.495</td><td>0.037</td></tr><tr><td style=\"text-align: left\">Residual Std. Error</td><td>8.970 (df=436338)</td><td>13.643 (df=13880356)</td><td>7.849 (df=34784)</td><td>9.233 (df=6491659)</td><td>8.867 (df=436337)</td><td>13.376 (df=13880355)</td><td>7.845 (df=34783)</td><td>9.094 (df=6491658)</td></tr><tr><td style=\"text-align: left\">F Statistic</td><td>539841.882<sup>***</sup> (df=1; 436338)</td><td>459652.729<sup>***</sup> (df=1; 13880356)</td><td>34025.738<sup>***</sup> (df=1; 34784)</td><td>49290.792<sup>***</sup> (df=1; 6491659)</td><td>281291.074<sup>***</sup> (df=2; 436337)</td><td>519594.474<sup>***</sup> (df=2; 13880355)</td><td>17045.490<sup>***</sup> (df=2; 34783)</td><td>125203.166<sup>***</sup> (df=2; 6491658)</td></tr><tr><td colspan=\"9\" style=\"border-bottom: 1px solid black\"></td></tr><tr><td style=\"text-align: left\">Note:</td>\n",
       " <td colspan=\"8\" style=\"text-align: right\">\n",
       "  <sup>*</sup>p&lt;0.1;\n",
       "  <sup>**</sup>p&lt;0.05;\n",
       "  <sup>***</sup>p&lt;0.01\n",
       " </td></tr><tr><td></td><td colspan=\"8\" style=\"text-align: right\">SS-prefix indicates randomly sampled from the larger dataset as to make both the same size, DS-prefix indicates different size.</td></tr><tr><td></td><td colspan=\"8\" style=\"text-align: right\">O-suffix indicates identical (overlapping) recommendations (15%, 20%, 25%). A-suffix includes all recommendations from each dataset.</td></tr><tr><td></td><td colspan=\"8\" style=\"text-align: right\">F indicates that said regression includes $x_2$ (normalized fare price) in the regression.</td></tr></table>"
      ],
      "text/plain": [
       "<stargazer.stargazer.Stargazer at 0x7f7aa9eb77c0>"
      ]
     },
     "execution_count": 15,
     "metadata": {},
     "output_type": "execute_result"
    }
   ],
   "source": [
    "stargazer = Stargazer([same_size_all, diff_size_all, same_size_overlap, diff_size_overlap, same_size_fare_all, diff_size_fare_all, same_size_fare_overlap, diff_size_fare_overlap])\n",
    "stargazer.custom_columns(['SSA', 'DSA', 'SSO', 'DSO', 'SSFA', 'DSFA', 'SSFO', 'DSFO'], [1, 1, 1, 1, 1, 1, 1, 1])\n",
    "stargazer.covariate_order(['Intercept', 'environment_dummy', 'fare'])\n",
    "stargazer.rename_covariates({'environment_dummy': 'Environment (Online) Dummy', 'fare': 'Fare'})\n",
    "stargazer.show_model_numbers(False)\n",
    "stargazer.add_custom_notes(['SS-prefix indicates randomly sampled from the larger dataset as to make both the same size, DS-prefix indicates different size.',\n",
    "                            'O-suffix indicates identical (overlapping) recommendations (15%, 20%, 25%). A-suffix includes all recommendations from each dataset.',\n",
    "                           'F indicates that said regression includes $x_2$ (normalized fare price) in the regression.'])\n",
    "stargazer"
   ]
  }
 ],
 "metadata": {
  "kernelspec": {
   "display_name": "Python 3 (ipykernel)",
   "language": "python",
   "name": "python3"
  },
  "language_info": {
   "codemirror_mode": {
    "name": "ipython",
    "version": 3
   },
   "file_extension": ".py",
   "mimetype": "text/x-python",
   "name": "python",
   "nbconvert_exporter": "python",
   "pygments_lexer": "ipython3",
   "version": "3.9.12"
  }
 },
 "nbformat": 4,
 "nbformat_minor": 5
}
